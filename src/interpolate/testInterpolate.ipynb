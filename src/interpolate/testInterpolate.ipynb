{
 "cells": [
  {
   "cell_type": "code",
   "execution_count": 15,
   "metadata": {},
   "outputs": [
    {
     "ename": "ValueError",
     "evalue": "object arrays are not supported",
     "output_type": "error",
     "traceback": [
      "\u001b[0;31m---------------------------------------------------------------------------\u001b[0m",
      "\u001b[0;31mValueError\u001b[0m                                Traceback (most recent call last)",
      "\u001b[1;32m/Users/indiram/ASI/src/interpolate/testInterpolate.ipynb Cell 1\u001b[0m line \u001b[0;36m3\n\u001b[1;32m     <a href='vscode-notebook-cell:/Users/indiram/ASI/src/interpolate/testInterpolate.ipynb#W0sZmlsZQ%3D%3D?line=27'>28</a>\u001b[0m \u001b[39mfor\u001b[39;00m x \u001b[39min\u001b[39;00m interpolate_x:\n\u001b[1;32m     <a href='vscode-notebook-cell:/Users/indiram/ASI/src/interpolate/testInterpolate.ipynb#W0sZmlsZQ%3D%3D?line=28'>29</a>\u001b[0m     y_interp \u001b[39m=\u001b[39m interp1d(datetimeX, indexY)\n\u001b[0;32m---> <a href='vscode-notebook-cell:/Users/indiram/ASI/src/interpolate/testInterpolate.ipynb#W0sZmlsZQ%3D%3D?line=29'>30</a>\u001b[0m     interpolated_value \u001b[39m=\u001b[39m y_interp(x)\n\u001b[1;32m     <a href='vscode-notebook-cell:/Users/indiram/ASI/src/interpolate/testInterpolate.ipynb#W0sZmlsZQ%3D%3D?line=30'>31</a>\u001b[0m     \u001b[39mprint\u001b[39m(\u001b[39m\"\u001b[39m\u001b[39mValue of Y at x = \u001b[39m\u001b[39m{}\u001b[39;00m\u001b[39m is \u001b[39m\u001b[39m{}\u001b[39;00m\u001b[39m\"\u001b[39m\u001b[39m.\u001b[39mformat(x, interpolated_value))\n",
      "File \u001b[0;32m~/miniconda3/envs/asi/lib/python3.11/site-packages/scipy/interpolate/_polyint.py:79\u001b[0m, in \u001b[0;36m_Interpolator1D.__call__\u001b[0;34m(self, x)\u001b[0m\n\u001b[1;32m     58\u001b[0m \u001b[39mdef\u001b[39;00m \u001b[39m__call__\u001b[39m(\u001b[39mself\u001b[39m, x):\n\u001b[1;32m     59\u001b[0m \u001b[39m    \u001b[39m\u001b[39m\"\"\"\u001b[39;00m\n\u001b[1;32m     60\u001b[0m \u001b[39m    Evaluate the interpolant\u001b[39;00m\n\u001b[1;32m     61\u001b[0m \n\u001b[0;32m   (...)\u001b[0m\n\u001b[1;32m     77\u001b[0m \n\u001b[1;32m     78\u001b[0m \u001b[39m    \"\"\"\u001b[39;00m\n\u001b[0;32m---> 79\u001b[0m     x, x_shape \u001b[39m=\u001b[39m \u001b[39mself\u001b[39;49m\u001b[39m.\u001b[39;49m_prepare_x(x)\n\u001b[1;32m     80\u001b[0m     y \u001b[39m=\u001b[39m \u001b[39mself\u001b[39m\u001b[39m.\u001b[39m_evaluate(x)\n\u001b[1;32m     81\u001b[0m     \u001b[39mreturn\u001b[39;00m \u001b[39mself\u001b[39m\u001b[39m.\u001b[39m_finish_y(y, x_shape)\n",
      "File \u001b[0;32m~/miniconda3/envs/asi/lib/python3.11/site-packages/scipy/interpolate/_polyint.py:91\u001b[0m, in \u001b[0;36m_Interpolator1D._prepare_x\u001b[0;34m(self, x)\u001b[0m\n\u001b[1;32m     89\u001b[0m \u001b[39mdef\u001b[39;00m \u001b[39m_prepare_x\u001b[39m(\u001b[39mself\u001b[39m, x):\n\u001b[1;32m     90\u001b[0m \u001b[39m    \u001b[39m\u001b[39m\"\"\"Reshape input x array to 1-D\"\"\"\u001b[39;00m\n\u001b[0;32m---> 91\u001b[0m     x \u001b[39m=\u001b[39m _asarray_validated(x, check_finite\u001b[39m=\u001b[39;49m\u001b[39mFalse\u001b[39;49;00m, as_inexact\u001b[39m=\u001b[39;49m\u001b[39mTrue\u001b[39;49;00m)\n\u001b[1;32m     92\u001b[0m     x_shape \u001b[39m=\u001b[39m x\u001b[39m.\u001b[39mshape\n\u001b[1;32m     93\u001b[0m     \u001b[39mreturn\u001b[39;00m x\u001b[39m.\u001b[39mravel(), x_shape\n",
      "File \u001b[0;32m~/miniconda3/envs/asi/lib/python3.11/site-packages/scipy/_lib/_util.py:243\u001b[0m, in \u001b[0;36m_asarray_validated\u001b[0;34m(a, check_finite, sparse_ok, objects_ok, mask_ok, as_inexact)\u001b[0m\n\u001b[1;32m    241\u001b[0m \u001b[39mif\u001b[39;00m \u001b[39mnot\u001b[39;00m objects_ok:\n\u001b[1;32m    242\u001b[0m     \u001b[39mif\u001b[39;00m a\u001b[39m.\u001b[39mdtype \u001b[39mis\u001b[39;00m np\u001b[39m.\u001b[39mdtype(\u001b[39m'\u001b[39m\u001b[39mO\u001b[39m\u001b[39m'\u001b[39m):\n\u001b[0;32m--> 243\u001b[0m         \u001b[39mraise\u001b[39;00m \u001b[39mValueError\u001b[39;00m(\u001b[39m'\u001b[39m\u001b[39mobject arrays are not supported\u001b[39m\u001b[39m'\u001b[39m)\n\u001b[1;32m    244\u001b[0m \u001b[39mif\u001b[39;00m as_inexact:\n\u001b[1;32m    245\u001b[0m     \u001b[39mif\u001b[39;00m \u001b[39mnot\u001b[39;00m np\u001b[39m.\u001b[39missubdtype(a\u001b[39m.\u001b[39mdtype, np\u001b[39m.\u001b[39minexact):\n",
      "\u001b[0;31mValueError\u001b[0m: object arrays are not supported"
     ]
    }
   ],
   "source": [
    "# Implementation of Linear Interpolation using Python3 code\n",
    "# Importing library\n",
    "from scipy.interpolate import interp1d\n",
    "import pandas as pd\n",
    "from datetime import datetime, timedelta\n",
    "\n",
    "df = pd.read_csv('/Users/indiram/ASI/src/data/F10.7.csv')\n",
    "# print(df.head())\n",
    "\n",
    "datetimeX = [] # DateTime values \n",
    "indexY = [] # f10.7 Index values\n",
    "\n",
    "for index, row in df.iterrows():\n",
    "    date_str = row['Date']\n",
    "    time_str = row['Time']\n",
    "    index = row['Adjusted Flux']\n",
    "    datetime_str = date_str + ' ' + time_str\n",
    "    datetime_obj = pd.to_datetime(datetime_str)\n",
    "    datetimeX.append(datetime_obj)\n",
    "    indexY.append(index)\n",
    "\n",
    "datetime1 = datetime(2023, 10, 18, 8, 30, 0)\n",
    "datetime2 = datetime(2023, 10, 18, 8, 35, 0)\n",
    "# Create a list of datetime objects\n",
    "interpolate_x = [datetime1, datetime2]\n",
    "\n",
    "# Finding the interpolation\n",
    "for x in interpolate_x:\n",
    "    y_interp = interp1d(datetimeX, indexY)\n",
    "    interpolated_value = y_interp(x)\n",
    "    print(\"Value of Y at x = {} is {}\".format(x, interpolated_value))\n"
   ]
  }
 ],
 "metadata": {
  "kernelspec": {
   "display_name": "asi",
   "language": "python",
   "name": "python3"
  },
  "language_info": {
   "codemirror_mode": {
    "name": "ipython",
    "version": 3
   },
   "file_extension": ".py",
   "mimetype": "text/x-python",
   "name": "python",
   "nbconvert_exporter": "python",
   "pygments_lexer": "ipython3",
   "version": "3.11.3"
  },
  "orig_nbformat": 4
 },
 "nbformat": 4,
 "nbformat_minor": 2
}
