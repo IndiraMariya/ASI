{
 "cells": [
  {
   "cell_type": "code",
   "execution_count": 1,
   "metadata": {},
   "outputs": [],
   "source": [
    "import pandas as pd\n",
    "import numpy as np\n",
    "from sklearn.model_selection import train_test_split\n",
    "from sklearn.preprocessing import MinMaxScaler\n",
    "from tensorflow.keras.models import Sequential\n",
    "from tensorflow.keras.layers import Conv1D, MaxPooling1D, Flatten, Dense, Dropout\n",
    "from tensorflow.keras.optimizers import Adam\n",
    "from sklearn.metrics import mean_squared_error, mean_absolute_error, r2_score"
   ]
  },
  {
   "cell_type": "code",
   "execution_count": 2,
   "metadata": {},
   "outputs": [],
   "source": [
    "# Load the data\n",
    "data = pd.read_csv(\"../../data/F10.7.csv\")  # Replace \"your_data.csv\" with the path to your data file\n",
    "\n",
    "# Preprocess the data\n",
    "X = data[['Julian day', 'Carringtonrotation', 'Observed Flux', 'Adjusted Flux', 'URSI Flux']].values\n",
    "y = data['Adjusted Flux'].values  # Adjusted Flux will be our target variable\n",
    "\n",
    "# Normalize features\n",
    "scaler = MinMaxScaler()\n",
    "X_scaled = scaler.fit_transform(X)\n",
    "\n",
    "# Split the data into training and testing sets\n",
    "X_train, X_test, y_train, y_test = train_test_split(X_scaled, y, test_size=0.2, random_state=42)\n",
    "\n",
    "# Reshape data for CNN input (assuming 1D convolution)\n",
    "X_train = X_train.reshape((X_train.shape[0], X_train.shape[1], 1))\n",
    "X_test = X_test.reshape((X_test.shape[0], X_test.shape[1], 1))"
   ]
  },
  {
   "cell_type": "code",
   "execution_count": 3,
   "metadata": {},
   "outputs": [
    {
     "name": "stderr",
     "output_type": "stream",
     "text": [
      "WARNING:absl:At this time, the v2.11+ optimizer `tf.keras.optimizers.Adam` runs slowly on M1/M2 Macs, please use the legacy Keras optimizer instead, located at `tf.keras.optimizers.legacy.Adam`.\n"
     ]
    },
    {
     "name": "stdout",
     "output_type": "stream",
     "text": [
      "Epoch 1/10\n",
      "518/518 [==============================] - 1s 1ms/step - loss: 2062.7783 - val_loss: 938.6258\n",
      "Epoch 2/10\n",
      "518/518 [==============================] - 1s 1ms/step - loss: 1146.8008 - val_loss: 677.4485\n",
      "Epoch 3/10\n",
      "518/518 [==============================] - 1s 995us/step - loss: 506.5978 - val_loss: 5.4631\n",
      "Epoch 4/10\n",
      "518/518 [==============================] - 1s 979us/step - loss: 203.0256 - val_loss: 20.2494\n",
      "Epoch 5/10\n",
      "518/518 [==============================] - 0s 955us/step - loss: 194.6494 - val_loss: 26.0834\n",
      "Epoch 6/10\n",
      "518/518 [==============================] - 0s 963us/step - loss: 211.2842 - val_loss: 3.0085\n",
      "Epoch 7/10\n",
      "518/518 [==============================] - 1s 969us/step - loss: 203.4908 - val_loss: 3.8364\n",
      "Epoch 8/10\n",
      "518/518 [==============================] - 1s 965us/step - loss: 217.2457 - val_loss: 33.4829\n",
      "Epoch 9/10\n",
      "518/518 [==============================] - 1s 1ms/step - loss: 196.1759 - val_loss: 50.8094\n",
      "Epoch 10/10\n",
      "518/518 [==============================] - 1s 1ms/step - loss: 197.8174 - val_loss: 21.3895\n",
      "130/130 [==============================] - 0s 358us/step - loss: 21.3895\n",
      "Test Loss: 21.389530181884766\n",
      "130/130 [==============================] - 0s 342us/step\n",
      "Mean Squared Error (MSE): 21.389530653983567\n",
      "Mean Absolute Error (MAE): 4.028532734879428\n",
      "R-squared (R2): 0.9800331890891555\n",
      "Root Mean Squared Error (RMSE): 4.624881690809351\n"
     ]
    }
   ],
   "source": [
    "# Build the CNN model\n",
    "model = Sequential([\n",
    "    #Add a 2d convolutional layer\n",
    "    Conv1D(filters=64, kernel_size=3, activation='relu', input_shape=(X_train.shape[1], X_train.shape[2]), padding='same'),\n",
    "    MaxPooling1D(pool_size=2),\n",
    "    Conv1D(filters=128, kernel_size=3, activation='relu', padding='same'),\n",
    "    # MaxPooling1D(pool_size=2),\n",
    "    Flatten(),\n",
    "    Dense(128, activation='relu'),\n",
    "    Dropout(0.5),\n",
    "    Dense(1)  \n",
    "])\n",
    "\n",
    "# Compile the model\n",
    "model.compile(optimizer=Adam(), loss='mse')  # Using Mean Squared Error as loss function\n",
    "\n",
    "# Train the model\n",
    "model.fit(X_train, y_train, epochs=10, batch_size=32, validation_data=(X_test, y_test))\n",
    "\n",
    "# Evaluate the model\n",
    "loss = model.evaluate(X_test, y_test)\n",
    "print(\"Test Loss:\", loss)\n",
    "\n",
    "# Predictions\n",
    "y_pred = model.predict(X_test)\n",
    "\n",
    "# Calculate additional metrics\n",
    "mse = mean_squared_error(y_test, y_pred)\n",
    "mae = mean_absolute_error(y_test, y_pred)\n",
    "r2 = r2_score(y_test, y_pred)\n",
    "rmse = np.sqrt(mse)\n",
    "\n",
    "print(\"Mean Squared Error (MSE):\", mse)\n",
    "print(\"Mean Absolute Error (MAE):\", mae)\n",
    "print(\"R-squared (R2):\", r2)\n",
    "print(\"Root Mean Squared Error (RMSE):\", rmse)\n"
   ]
  },
  {
   "cell_type": "code",
   "execution_count": 11,
   "metadata": {},
   "outputs": [
    {
     "name": "stdout",
     "output_type": "stream",
     "text": [
      "1/1 [==============================] - 0s 79ms/step\n",
      "Predicted Adjusted Flux for Future Time: [[123.37208]]\n"
     ]
    }
   ],
   "source": [
    "# Define the future data point\n",
    "next_julian_day = 2453309.354\n",
    "next_carrington_rotation = 2022.656\n",
    "next_observed_flux = 137.5\n",
    "next_adjusted_flux = 135.7\n",
    "next_ursi_flux = 121.5\n",
    "\n",
    "# Predict future values\n",
    "future_data = np.array([[next_julian_day, next_carrington_rotation, next_observed_flux, next_adjusted_flux, next_ursi_flux]])\n",
    "future_data_scaled = scaler.transform(future_data)\n",
    "future_data_reshaped = future_data_scaled.reshape((future_data_scaled.shape[0], future_data_scaled.shape[1], 1))\n",
    "future_prediction = model.predict(future_data_reshaped)\n",
    "print(\"Predicted Adjusted Flux for Future Time:\", future_prediction)"
   ]
  }
 ],
 "metadata": {
  "kernelspec": {
   "display_name": "asi",
   "language": "python",
   "name": "python3"
  },
  "language_info": {
   "codemirror_mode": {
    "name": "ipython",
    "version": 3
   },
   "file_extension": ".py",
   "mimetype": "text/x-python",
   "name": "python",
   "nbconvert_exporter": "python",
   "pygments_lexer": "ipython3",
   "version": "3.11.3"
  }
 },
 "nbformat": 4,
 "nbformat_minor": 2
}
