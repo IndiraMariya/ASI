{
 "cells": [
  {
   "cell_type": "code",
   "execution_count": 1,
   "metadata": {},
   "outputs": [],
   "source": [
    "import pandas as pd\n",
    "import numpy as np\n",
    "from sklearn.model_selection import train_test_split\n",
    "from sklearn.preprocessing import MinMaxScaler\n",
    "# from tensorflow.keras.models import Sequential\n",
    "from keras.layers import Input, Conv2D, Conv1D, Flatten, Dense, Dropout, concatenate\n",
    "# from tensorflow.keras.optimizers import Adam\n",
    "from sklearn.metrics import mean_squared_error, mean_absolute_error, r2_score\n",
    "from keras.layers import Input, Conv1D, MaxPooling1D, Flatten, Dense, Dropout, concatenate\n",
    "from keras.models import Model\n",
    "from keras.optimizers import Adam\n",
    "from sklearn.metrics import mean_squared_error, mean_absolute_error, r2_score\n",
    "import numpy as np\n",
    "import cv2\n",
    "import os"
   ]
  },
  {
   "cell_type": "code",
   "execution_count": 2,
   "metadata": {},
   "outputs": [],
   "source": [
    "# Define the input shapes\n",
    "image_input_shape = (512, 512, 3)  # Define your image input shape\n",
    "f107_input_shape = (1, 1)  # Define your F10.7 index input shape\n",
    "\n",
    "# Example function to load and preprocess image data\n",
    "def preprocess_image(file_path):\n",
    "    # Load image using OpenCV (or any other library)\n",
    "    image = cv2.imread(file_path)\n",
    "    # Resize image to desired dimensions\n",
    "    resized_image = cv2.resize(image, (512, 512))\n",
    "    # Normalize pixel values to [0, 1] range\n",
    "    normalized_image = resized_image / 255.0\n",
    "    return normalized_image\n",
    "\n",
    "# Example: Load and preprocess image data for training\n",
    "X_train_image = []\n",
    "directory_path = \"../../data/images/0335-010122-010222\"\n",
    "\n",
    "for filename in os.listdir(directory_path):\n",
    "    file_path = os.path.join(directory_path, filename)\n",
    "    preprocessed_image = preprocess_image(file_path)\n",
    "    X_train_image.append(preprocessed_image)\n",
    "\n",
    "# Convert list of images to NumPy array\n",
    "X_train_image = np.array(X_train_image)\n",
    "\n",
    "data = pd.read_csv(\"../../data/F10.7.csv\")  # Replace \"your_data.csv\" with the path to your data file\n",
    "# Preprocess the data\n",
    "X = data[['Julian day', 'Carringtonrotation', 'Observed Flux', 'Adjusted Flux', 'URSI Flux']].values\n",
    "y = data['Adjusted Flux'].values  # Adjusted Flux will be our target variable\n",
    "# Normalize features\n",
    "scaler = MinMaxScaler()\n",
    "X_scaled = scaler.fit_transform(X)\n",
    "# Split the data into training and testing sets\n",
    "X_train_f107, X_test_f107, y_train, y_test = train_test_split(X_scaled, y, test_size=0.2, random_state=42)\n",
    "# Reshape data for CNN input (assuming 1D convolution)\n",
    "X_train_f107 = X_train_f107.reshape((X_train_f107.shape[0], X_train_f107.shape[1], 1))\n",
    "X_test_f107 = X_test_f107.reshape((X_test_f107.shape[0], X_test_f107.shape[1], 1))"
   ]
  },
  {
   "cell_type": "code",
   "execution_count": 3,
   "metadata": {},
   "outputs": [
    {
     "name": "stdout",
     "output_type": "stream",
     "text": [
      "Image Data:\n",
      "X_train_image shape: (308, 512, 512, 3)\n",
      "\n",
      "F10.7 Index Data:\n",
      "X_train_f107 shape: (16572, 5, 1)\n",
      "X_test_f107 shape: (4143, 5, 1)\n",
      "y_train shape: (16572,)\n",
      "y_test shape: (4143,)\n"
     ]
    }
   ],
   "source": [
    "print(\"Image Data:\")\n",
    "print(\"X_train_image shape:\", X_train_image.shape)\n",
    "\n",
    "print(\"\\nF10.7 Index Data:\")\n",
    "print(\"X_train_f107 shape:\", X_train_f107.shape)\n",
    "print(\"X_test_f107 shape:\", X_test_f107.shape)\n",
    "print(\"y_train shape:\", y_train.shape)\n",
    "print(\"y_test shape:\", y_test.shape)"
   ]
  },
  {
   "cell_type": "code",
   "execution_count": null,
   "metadata": {},
   "outputs": [
    {
     "ename": "",
     "evalue": "",
     "output_type": "error",
     "traceback": [
      "\u001b[1;31mThe Kernel crashed while executing code in the current cell or a previous cell. \n",
      "\u001b[1;31mPlease review the code in the cell(s) to identify a possible cause of the failure. \n",
      "\u001b[1;31mClick <a href='https://aka.ms/vscodeJupyterKernelCrash'>here</a> for more info. \n",
      "\u001b[1;31mView Jupyter <a href='command:jupyter.viewOutput'>log</a> for further details."
     ]
    }
   ],
   "source": [
    "# Define image branch\n",
    "image_input = Input(shape=image_input_shape)\n",
    "conv1_img = Conv2D(filters=64, kernel_size=(3, 3), activation='relu')(image_input)\n",
    "pool1_img = MaxPooling2D(pool_size=(2, 2))(conv1_img)\n",
    "conv2_img = Conv2D(filters=128, kernel_size=(3, 3), activation='relu')(pool1_img)\n",
    "pool2_img = MaxPooling2D(pool_size=(2, 2))(conv2_img)\n",
    "flatten_img = Flatten()(pool2_img)\n",
    "\n",
    "# Define F10.7 index branch\n",
    "f107_input = Input(shape=f107_input_shape)\n",
    "conv1d_1_f107 = Conv1D(filters=64, kernel_size=3, activation='relu', padding='same')(f107_input)\n",
    "pooling1d_1_f107 = MaxPooling1D(pool_size=2)(conv1d_1_f107)\n",
    "conv1d_2_f107 = Conv1D(filters=128, kernel_size=3, activation='relu', padding='same')(pooling1d_1_f107)\n",
    "flatten_f107 = Flatten()(conv1d_2_f107)\n",
    "\n",
    "# Concatenate the outputs of the two branches\n",
    "concatenated = concatenate([flatten_img, flatten_f107])\n",
    "\n",
    "# Common dense layers\n",
    "dense1 = Dense(128, activation='relu')(concatenated)\n",
    "dropout1 = Dropout(0.5)(dense1)\n",
    "output = Dense(1)(dropout1)  # Output layer with one neuron for regression\n",
    "\n",
    "# Define the model with two inputs\n",
    "model = Model(inputs=[image_input, f107_input], outputs=output)"
   ]
  },
  {
   "cell_type": "code",
   "execution_count": null,
   "metadata": {},
   "outputs": [],
   "source": [
    "# Compile the model\n",
    "model.compile(optimizer=Adam(), loss='mse')  # Using Mean Squared Error as loss function\n",
    "\n",
    "# Train the model with both image and F10.7 index data\n",
    "model.fit([X_train_image, X_train_f107], y_train, epochs=10, batch_size=32, validation_data=([X_test_f107], y_test))\n",
    "\n",
    "# Evaluate the model using only F10.7 index data\n",
    "loss = model.evaluate(X_test_f107, y_test)\n",
    "print(\"Test Loss (F10.7 index data only):\", loss)\n",
    "\n",
    "# Predictions using only F10.7 index data\n",
    "y_pred = model.predict(X_test_f107)\n",
    "\n",
    "\n",
    "# Calculate additional metrics\n",
    "mse = mean_squared_error(y_test, y_pred)\n",
    "mae = mean_absolute_error(y_test, y_pred)\n",
    "r2 = r2_score(y_test, y_pred)\n",
    "rmse = np.sqrt(mse)\n",
    "\n",
    "print(\"Mean Squared Error (MSE):\", mse)\n",
    "print(\"Mean Absolute Error (MAE):\", mae)\n",
    "print(\"R-squared (R2):\", r2)\n",
    "print(\"Root Mean Squared Error (RMSE):\", rmse)"
   ]
  }
 ],
 "metadata": {
  "kernelspec": {
   "display_name": "asi",
   "language": "python",
   "name": "python3"
  },
  "language_info": {
   "codemirror_mode": {
    "name": "ipython",
    "version": 3
   },
   "file_extension": ".py",
   "mimetype": "text/x-python",
   "name": "python",
   "nbconvert_exporter": "python",
   "pygments_lexer": "ipython3",
   "version": "3.11.3"
  }
 },
 "nbformat": 4,
 "nbformat_minor": 2
}
